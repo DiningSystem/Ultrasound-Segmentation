{
 "cells": [
  {
   "cell_type": "code",
   "execution_count": null,
   "metadata": {},
   "outputs": [],
   "source": [
    "import os\n",
    "from os import walk\n",
    "# return a tuple of arrays ([all directories inside input path], [all files inside input path])\n",
    "def get_content_of_path(pathname, get_dir=True, get_filenames=True):\n",
    "    f = []\n",
    "    for (dirpath, dirnames, filenames) in walk(pathname):\n",
    "        f.extend(filenames)\n",
    "        break\n",
    "    result = []\n",
    "    if get_dir is False:\n",
    "        return filenames\n",
    "    if get_filenames is False:\n",
    "        return dirnames\n",
    "    return dirnames, filenames\n",
    "\n",
    "\n",
    "def get_image_lists_from_dataset(datasets_path):\n",
    "    train_bmode_list = []\n",
    "    train_mask_list = []\n",
    "    test_bmode_list = []\n",
    "    test_mask_list = []\n",
    "\n",
    "    if datasets_path != None:\n",
    "        dataset_list = os.listdir(datasets_path)\n",
    "        for dataset in dataset_list:\n",
    "            bmode_list = [] # input\n",
    "            mask_list = [] # output\n",
    "            dataset_folder = datasets_path + dataset + \"/\"\n",
    "            dataset_dirnames = get_content_of_path(dataset_folder, get_filenames=False)\n",
    "\n",
    "            # loop through image files and put them in list corresponding to their filename\n",
    "            for filename in dataset_dirnames:\n",
    "                if filename != \"bmode\" and filename != \"mask\":\n",
    "                    continue\n",
    "                image_folder = dataset_folder + filename + \"/\"\n",
    "                image_paths = get_content_of_path(image_folder, get_dir=False)\n",
    "                image_paths = [image_folder + image_path for image_path in image_paths]\n",
    "                if filename == \"bmode\":\n",
    "                    bmode_list = image_paths\n",
    "                elif filename == \"mask\":\n",
    "                    mask_list = image_paths\n",
    "\n",
    "            # assign bmode and mask list depending on dataset type\n",
    "            if dataset == \"train\":\n",
    "                train_bmode_list = bmode_list\n",
    "                train_mask_list = mask_list\n",
    "            elif dataset == \"test\":\n",
    "                test_bmode_list = bmode_list\n",
    "                test_mask_list = mask_list\n",
    "    return train_bmode_list, train_mask_list, test_bmode_list, test_mask_list"
   ]
  },
  {
   "cell_type": "code",
   "execution_count": null,
   "metadata": {},
   "outputs": [],
   "source": [
    "train_bmode, train_mask, test_bmode, test_mask = get_image_lists_from_dataset(datasets_path)"
   ]
  }
 ],
 "metadata": {
  "kernelspec": {
   "display_name": "Python 3 (PyTorch 1.9.1)",
   "language": "python",
   "name": "pytorch-1.9.1"
  },
  "language_info": {
   "codemirror_mode": {
    "name": "ipython",
    "version": 3
   },
   "file_extension": ".py",
   "mimetype": "text/x-python",
   "name": "python",
   "nbconvert_exporter": "python",
   "pygments_lexer": "ipython3",
   "version": "3.9.7"
  }
 },
 "nbformat": 4,
 "nbformat_minor": 2
}
