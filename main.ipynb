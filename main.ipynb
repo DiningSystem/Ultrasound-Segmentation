{
 "cells": [
  {
   "cell_type": "code",
   "execution_count": 3,
   "id": "2f91fb97",
   "metadata": {},
   "outputs": [],
   "source": [
    "import torch\n",
    "import torchvision\n",
    "import torchvision.transforms as transforms\n",
    "\n",
    "import torch.nn as nn\n",
    "import torch.nn.functional as F\n",
    "from torch import optim\n",
    "\n",
    "import matplotlib.pyplot as plt\n",
    "import numpy as np"
   ]
  },
  {
   "cell_type": "code",
   "execution_count": 16,
   "id": "bf36c4e7",
   "metadata": {},
   "outputs": [],
   "source": [
    "import os\n",
    "import pandas as pd\n",
    "dfs = []\n",
    "path = None\n",
    "if path != None:\n",
    "    foldList = os.listdir(path)\n",
    "    for folder in foldList:\n",
    "        pathList = []\n",
    "        segList = []\n",
    "        val_pathList = []\n",
    "        val_segList = []\n",
    "        foldPath = path+folder+\"/\"\n",
    "        if folder == 'train':\n",
    "            for fol in os.listdir(foldPath):\n",
    "                imgPath = foldPath+fol\n",
    "                if folder == 'data':\n",
    "                    for img in imgPath:\n",
    "                        fpath = imgPath+img\n",
    "                        pathList.append(imgPath)\n",
    "                elif folder == 'mask':\n",
    "                    for img in imgPath:\n",
    "                        fpath = imgPath+img\n",
    "                        segList.append(imgPath)\n",
    "        else:\n",
    "            for fol in os.listdir(foldPath):\n",
    "                imgPath = foldPath+fol\n",
    "                if folder == 'data':\n",
    "                    for img in imgPath:\n",
    "                        fpath = imgPath+img\n",
    "                        val_pathList.append(imgPath)\n",
    "                elif folder == 'mask':\n",
    "                    for img in imgPath:\n",
    "                        fpath = imgPath+img\n",
    "                        val_segList.append(imgPath)\n",
    "        df = pd.DataFrame([pathList,segList,val_pathList, val_segList], columns=['train,tlabel,valid,vlabel'])\n",
    "        dfs.append(df)\n",
    "\n",
    "\n",
    "    dataset = pd.concat(dfs)\n",
    "    dataset = dataset.sample(frac=1).reset_index(drop=True)\n"
   ]
  },
  {
   "cell_type": "code",
   "execution_count": 4,
   "id": "eb423dc6",
   "metadata": {},
   "outputs": [],
   "source": [
    "class deconvol(nn.Module):\n",
    "    def __init__(self, out_channels, kernel_size ,num_layer,name,channel_change, bias=True):\n",
    "        super().__init__()\n",
    "        self.sequence = nn.sequential()\n",
    "        sequence.add_module('Max Unpooling'+name,nn.MaxUnpool2d(kernel_size=2, stride=2, padding=0, dilation=1, ceil_mode=False))\n",
    "        for i in range(num_layer-1):\n",
    "            sequence.add_module('Deconv'+name+str(i),nn.ConvTranspose2d(out_channels, out_channels, kernel_size=kernel_size, bias=bias))\n",
    "        if (channel_change):\n",
    "            sequence.add_module('Deconv'+name+str(i),nn.ConvTranspose2d(out_channels, out_channels/2, kernel_size=kernel_size, bias=bias))\n",
    "        else:\n",
    "            sequence.add_module('Deconv'+name+str(i),nn.ConvTranspose2d(out_channels, out_channels, kernel_size=kernel_size, bias=bias))\n",
    "    def forward(self,x):\n",
    "        return self.sequence(x)"
   ]
  },
  {
   "cell_type": "code",
   "execution_count": 5,
   "id": "15e3f94c",
   "metadata": {},
   "outputs": [],
   "source": [
    "import torchvision.models as models\n",
    "device = torch.device(\"cuda\" if torch.cuda.is_available() else \"cpu\")\n",
    "model_ft = models.vgg16(pretrained=True)"
   ]
  },
  {
   "cell_type": "code",
   "execution_count": 6,
   "id": "a0bda27d",
   "metadata": {},
   "outputs": [
    {
     "name": "stdout",
     "output_type": "stream",
     "text": [
      "cuda\n"
     ]
    }
   ],
   "source": [
    "print(device)"
   ]
  },
  {
   "cell_type": "code",
   "execution_count": 7,
   "id": "64301a17",
   "metadata": {},
   "outputs": [
    {
     "name": "stdout",
     "output_type": "stream",
     "text": [
      "Sequential(\n",
      "  (0): Sequential(\n",
      "    (0): Conv2d(3, 64, kernel_size=(3, 3), stride=(1, 1), padding=(1, 1))\n",
      "    (1): ReLU(inplace=True)\n",
      "    (2): Conv2d(64, 64, kernel_size=(3, 3), stride=(1, 1), padding=(1, 1))\n",
      "    (3): ReLU(inplace=True)\n",
      "    (4): MaxPool2d(kernel_size=2, stride=2, padding=0, dilation=1, ceil_mode=False)\n",
      "    (5): Conv2d(64, 128, kernel_size=(3, 3), stride=(1, 1), padding=(1, 1))\n",
      "    (6): ReLU(inplace=True)\n",
      "    (7): Conv2d(128, 128, kernel_size=(3, 3), stride=(1, 1), padding=(1, 1))\n",
      "    (8): ReLU(inplace=True)\n",
      "    (9): MaxPool2d(kernel_size=2, stride=2, padding=0, dilation=1, ceil_mode=False)\n",
      "    (10): Conv2d(128, 256, kernel_size=(3, 3), stride=(1, 1), padding=(1, 1))\n",
      "    (11): ReLU(inplace=True)\n",
      "    (12): Conv2d(256, 256, kernel_size=(3, 3), stride=(1, 1), padding=(1, 1))\n",
      "    (13): ReLU(inplace=True)\n",
      "    (14): Conv2d(256, 256, kernel_size=(3, 3), stride=(1, 1), padding=(1, 1))\n",
      "    (15): ReLU(inplace=True)\n",
      "    (16): MaxPool2d(kernel_size=2, stride=2, padding=0, dilation=1, ceil_mode=False)\n",
      "    (17): Conv2d(256, 512, kernel_size=(3, 3), stride=(1, 1), padding=(1, 1))\n",
      "    (18): ReLU(inplace=True)\n",
      "    (19): Conv2d(512, 512, kernel_size=(3, 3), stride=(1, 1), padding=(1, 1))\n",
      "    (20): ReLU(inplace=True)\n",
      "    (21): Conv2d(512, 512, kernel_size=(3, 3), stride=(1, 1), padding=(1, 1))\n",
      "    (22): ReLU(inplace=True)\n",
      "    (23): MaxPool2d(kernel_size=2, stride=2, padding=0, dilation=1, ceil_mode=False)\n",
      "    (24): Conv2d(512, 512, kernel_size=(3, 3), stride=(1, 1), padding=(1, 1))\n",
      "    (25): ReLU(inplace=True)\n",
      "    (26): Conv2d(512, 512, kernel_size=(3, 3), stride=(1, 1), padding=(1, 1))\n",
      "    (27): ReLU(inplace=True)\n",
      "    (28): Conv2d(512, 512, kernel_size=(3, 3), stride=(1, 1), padding=(1, 1))\n",
      "    (29): ReLU(inplace=True)\n",
      "    (30): MaxPool2d(kernel_size=2, stride=2, padding=0, dilation=1, ceil_mode=False)\n",
      "  )\n",
      ")\n"
     ]
    }
   ],
   "source": [
    "model_encode = nn.Sequential(*[model_ft.features])\n",
    "print(model_encode)"
   ]
  },
  {
   "cell_type": "code",
   "execution_count": 8,
   "id": "38bde015",
   "metadata": {},
   "outputs": [],
   "source": [
    "for param in model_encode.parameters():\n",
    "    param.requires_grad = False"
   ]
  },
  {
   "cell_type": "code",
   "execution_count": 9,
   "id": "c6b4b9a7",
   "metadata": {},
   "outputs": [],
   "source": [
    "class main_model(nn.Module):\n",
    "    def __init__(self, in_channels, out_channels, kernel_size ,num_layer,name, bias=True):\n",
    "        super().__init__()\n",
    "        self.sequence = model_encode\n",
    "        sequence.add_module(nn.Flatten())\n",
    "        sequence.add_module(nn.Linear(in_features=25088, out_features=4096, bias=True))\n",
    "        sequence.add_module(nn.Linear(in_features=4096, out_features=4096, bias=True))\n",
    "        sequence.add_module(nn.Linear(in_features=4096, out_features=25088, bias=True))\n",
    "        self.sequence1 = nn.Sequential()\n",
    "        sequence1.add_module(deconvol(512, 3 ,3,'decov1',False, bias=True))\n",
    "        sequence1.add_module(deconvol(512, 3 ,3,'decov2',True, bias=True))\n",
    "        sequence1.add_module(deconvol(256, 3 ,3,'decov3',False, bias=True))\n",
    "        sequence1.add_module(deconvol(128, 3 ,2,'decov4',False, bias=True))\n",
    "        sequence1.add_module(deconvol(64, 3 ,2,'decov5',True, bias=True))\n",
    "        sequence1.add_module(nn.ConvTranspose2d(64, 64, kernel_size=1,stride=1, padding=1, bias=bias))\n",
    "    def forward(self,x):\n",
    "        x=self.sequence(x)\n",
    "        x=torch.reshape(x, (None, 7, 7, 512))\n",
    "        return self.sequence1(x)"
   ]
  },
  {
   "cell_type": "code",
   "execution_count": 10,
   "id": "a372a82b",
   "metadata": {},
   "outputs": [],
   "source": [
    "def get_model():\n",
    "    model = main_model()\n",
    "    return model, optim.SGD(model.parameters(), lr=lr)"
   ]
  },
  {
   "cell_type": "code",
   "execution_count": 11,
   "id": "3af62a4e",
   "metadata": {},
   "outputs": [],
   "source": [
    "def loss_batch(model, xb, yb, loss_func=F.cross_entropy, opt=None):\n",
    "    loss = loss_func(model(xb), yb)\n",
    "\n",
    "    if opt is not None:\n",
    "        loss.backward()\n",
    "        opt.step()\n",
    "        opt.zero_grad()\n",
    "\n",
    "    return loss.item(), len(xb)"
   ]
  },
  {
   "cell_type": "code",
   "execution_count": 12,
   "id": "acdcccf5",
   "metadata": {},
   "outputs": [],
   "source": [
    "def fit(epochs, model, loss_func, opt, train_dl, valid_dl):\n",
    "    for epoch in range(epochs):\n",
    "        model.train()\n",
    "        loss1 = []\n",
    "        num = []\n",
    "        for xb, yb in train_dl:\n",
    "            losses, nums = loss_batch(model, loss_func, xb, yb)\n",
    "        loss1.append(losses)\n",
    "        num.append(nums)\n",
    "        train_loss = np.sum(np.multiply(losses, nums)) / np.sum(nums)\n",
    "\n",
    "        model.eval()\n",
    "        with torch.no_grad():\n",
    "            losses, nums = zip(\n",
    "                *[loss_batch(model, loss_func, xb, yb) for xb, yb in valid_dl]\n",
    "            )\n",
    "        val_loss = np.sum(np.multiply(losses, nums)) / np.sum(nums)\n",
    "\n",
    "        print(epoch, val_loss, train_loss)"
   ]
  },
  {
   "cell_type": "code",
   "execution_count": 14,
   "id": "44a8cfc5",
   "metadata": {},
   "outputs": [],
   "source": [
    "from torch.utils.data import DataLoader\n",
    "from torch.utils.data import TensorDataset\n",
    "def get_data(x_train, y_train, x_valid, y_valid, bs):\n",
    "    train_ds = TensorDataset(x_train, y_train)\n",
    "    train_dl = DataLoader(train_ds, batch_size=bs, shuffle=True)\n",
    "    valid_ds = TensorDataset(x_valid, y_valid)\n",
    "    valid_dl = DataLoader(valid_ds, batch_size=bs * 2)\n",
    "    return (train_dl,valid_dl)"
   ]
  },
  {
   "cell_type": "code",
   "execution_count": null,
   "id": "b7655b20",
   "metadata": {},
   "outputs": [],
   "source": []
  }
 ],
 "metadata": {
  "kernelspec": {
   "display_name": "Python 3",
   "language": "python",
   "name": "python3"
  },
  "language_info": {
   "codemirror_mode": {
    "name": "ipython",
    "version": 3
   },
   "file_extension": ".py",
   "mimetype": "text/x-python",
   "name": "python",
   "nbconvert_exporter": "python",
   "pygments_lexer": "ipython3",
   "version": "3.8.8"
  }
 },
 "nbformat": 4,
 "nbformat_minor": 5
}
