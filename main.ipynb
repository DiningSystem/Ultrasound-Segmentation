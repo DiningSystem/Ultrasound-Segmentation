{
 "cells": [
  {
   "cell_type": "code",
   "execution_count": 1,
   "metadata": {},
   "outputs": [],
   "source": [
    "# importing pytorch and related package\n",
    "import torch\n",
    "import torchvision\n",
    "import torchvision.transforms as transforms\n",
    "\n",
    "import torch.nn as nn\n",
    "import torch.nn.functional as F\n",
    "from torch import optim\n",
    "\n",
    "import matplotlib.pyplot as plt\n",
    "import numpy as np\n"
   ]
  },
  {
   "cell_type": "code",
   "execution_count": 2,
   "metadata": {},
   "outputs": [
    {
     "data": {
      "text/plain": [
       "False"
      ]
     },
     "execution_count": 2,
     "metadata": {},
     "output_type": "execute_result"
    }
   ],
   "source": [
    "torch.cuda.is_available()"
   ]
  },
  {
   "cell_type": "code",
   "execution_count": 3,
   "metadata": {},
   "outputs": [],
   "source": [
    "import os\n",
    "from os import walk\n",
    "# return a tuple of arrays ([all directories inside input path], [all files inside input path])\n",
    "def get_content_of_path(pathname, get_dir=True, get_filenames=True):\n",
    "    f = []\n",
    "    for (dirpath, dirnames, filenames) in walk(pathname):\n",
    "        f.extend(filenames)\n",
    "        break\n",
    "    result = []\n",
    "    if get_dir is False:\n",
    "        return filenames\n",
    "    if get_filenames is False:\n",
    "        return dirnames\n",
    "    return dirnames, filenames\n",
    "\n",
    "\n",
    "def get_image_lists_from_dataset(datasets_path):\n",
    "    train_bmode_list = []\n",
    "    train_mask_list = []\n",
    "    test_bmode_list = []\n",
    "    test_mask_list = []\n",
    "\n",
    "    if datasets_path != None:\n",
    "        dataset_list = os.listdir(datasets_path)\n",
    "        for dataset in dataset_list:\n",
    "            bmode_list = [] # input\n",
    "            mask_list = [] # output\n",
    "            dataset_folder = datasets_path + dataset + \"/\"\n",
    "            dataset_dirnames = get_content_of_path(dataset_folder, get_filenames=False)\n",
    "\n",
    "            # loop through image files and put them in list corresponding to their filename\n",
    "            for filename in dataset_dirnames:\n",
    "                if filename != \"bmode\" and filename != \"mask\":\n",
    "                    continue\n",
    "                image_folder = dataset_folder + filename + \"/\"\n",
    "                image_paths = get_content_of_path(image_folder, get_dir=False)\n",
    "                image_paths = [dataset_folder + image_path for image_path in image_paths]\n",
    "                if filename == \"bmode\":\n",
    "                    bmode_list = image_paths\n",
    "                elif filename == \"mask\":\n",
    "                    mask_list = image_paths\n",
    "\n",
    "            # assign bmode and mask list depending on dataset type\n",
    "            if dataset == \"train\":\n",
    "                train_bmode_list = bmode_list\n",
    "                train_mask_list = mask_list\n",
    "            elif dataset == \"test\":\n",
    "                test_bmode_list = bmode_list\n",
    "                test_mask_list = mask_list\n",
    "    return train_bmode_list, train_mask_list, test_bmode_list, test_mask_list"
   ]
  },
  {
   "cell_type": "code",
   "execution_count": 5,
   "metadata": {},
   "outputs": [],
   "source": [
    "datasets_path = \"/gpfs/fs2/scratch/mdoyley_lab/GPU_VA/DL_dataset/\"\n",
    "train_bmode, train_mask, test_bmode, test_mask = get_image_lists_from_dataset(datasets_path)\n"
   ]
  },
  {
   "cell_type": "code",
   "execution_count": 10,
   "metadata": {},
   "outputs": [
    {
     "data": {
      "text/plain": [
       "318"
      ]
     },
     "execution_count": 10,
     "metadata": {},
     "output_type": "execute_result"
    }
   ],
   "source": [
    "len(train_mask)"
   ]
  },
  {
   "cell_type": "code",
   "execution_count": 30,
   "metadata": {},
   "outputs": [],
   "source": [
    "# deconvolution layer definition\n",
    "class deconvol(nn.Module):\n",
    "    def __init__(self, out_channels, kernel_size, num_layer, name, channel_change, bias=True):\n",
    "        super().__init__()\n",
    "        self.sequence = nn.Sequential()\n",
    "        # unpooling layer\n",
    "        unpool_layer = nn.MaxUnpool2d(\n",
    "                kernel_size=2,\n",
    "                stride=2,\n",
    "                padding=0,\n",
    "                dilation=1,\n",
    "                ceil_mode=False\n",
    "            )\n",
    "        sequence.add_module('Max Unpooling ' + name, unpool_layer)\n",
    "        \n",
    "        # Deconvolution layers, number based on input num_layer\n",
    "        for i in range(num_layer - 1):\n",
    "            sequence.add_module('Deconv '+ name + str(i),\n",
    "                                nn.ConvTranspose2d(\n",
    "                                    in_channels=out_channels,          \n",
    "                                    out_channels=out_channels,            \n",
    "                                    kernel_size=kernel_size,\n",
    "                                    bias=bias\n",
    "                                )\n",
    "                               )\n",
    "        final_out_channels = out_channels/2 if channel_change else out_channels\n",
    "        sequence.add_module('Deconv' + name + str(i),\n",
    "                            nn.ConvTranspose2d(\n",
    "                                in_channels=out_channels,    \n",
    "                                out_channels= final_out_channels,\n",
    "                                kernel_size=kernel_size,\n",
    "                                bias=bias\n",
    "                            )\n",
    "                           )\n",
    "    def forward(self, x):\n",
    "        return self.sequence(x)"
   ]
  },
  {
   "cell_type": "code",
   "execution_count": 13,
   "metadata": {},
   "outputs": [],
   "source": [
    "# download pretrained vgg16 models\n",
    "import torchvision.models as models\n",
    "device = torch.device(\"cuda\" if torch.cuda.is_available() else \"cpu\")\n",
    "model_ft = models.vgg16(pretrained=True)"
   ]
  },
  {
   "cell_type": "code",
   "execution_count": 25,
   "metadata": {},
   "outputs": [
    {
     "name": "stdout",
     "output_type": "stream",
     "text": [
      "Sequential(\n",
      "  (0): Sequential(\n",
      "    (0): Conv2d(3, 64, kernel_size=(3, 3), stride=(1, 1), padding=(1, 1))\n",
      "    (1): ReLU(inplace=True)\n",
      "    (2): Conv2d(64, 64, kernel_size=(3, 3), stride=(1, 1), padding=(1, 1))\n",
      "    (3): ReLU(inplace=True)\n",
      "    (4): MaxPool2d(kernel_size=2, stride=2, padding=0, dilation=1, ceil_mode=False)\n",
      "    (5): Conv2d(64, 128, kernel_size=(3, 3), stride=(1, 1), padding=(1, 1))\n",
      "    (6): ReLU(inplace=True)\n",
      "    (7): Conv2d(128, 128, kernel_size=(3, 3), stride=(1, 1), padding=(1, 1))\n",
      "    (8): ReLU(inplace=True)\n",
      "    (9): MaxPool2d(kernel_size=2, stride=2, padding=0, dilation=1, ceil_mode=False)\n",
      "    (10): Conv2d(128, 256, kernel_size=(3, 3), stride=(1, 1), padding=(1, 1))\n",
      "    (11): ReLU(inplace=True)\n",
      "    (12): Conv2d(256, 256, kernel_size=(3, 3), stride=(1, 1), padding=(1, 1))\n",
      "    (13): ReLU(inplace=True)\n",
      "    (14): Conv2d(256, 256, kernel_size=(3, 3), stride=(1, 1), padding=(1, 1))\n",
      "    (15): ReLU(inplace=True)\n",
      "    (16): MaxPool2d(kernel_size=2, stride=2, padding=0, dilation=1, ceil_mode=False)\n",
      "    (17): Conv2d(256, 512, kernel_size=(3, 3), stride=(1, 1), padding=(1, 1))\n",
      "    (18): ReLU(inplace=True)\n",
      "    (19): Conv2d(512, 512, kernel_size=(3, 3), stride=(1, 1), padding=(1, 1))\n",
      "    (20): ReLU(inplace=True)\n",
      "    (21): Conv2d(512, 512, kernel_size=(3, 3), stride=(1, 1), padding=(1, 1))\n",
      "    (22): ReLU(inplace=True)\n",
      "    (23): MaxPool2d(kernel_size=2, stride=2, padding=0, dilation=1, ceil_mode=False)\n",
      "    (24): Conv2d(512, 512, kernel_size=(3, 3), stride=(1, 1), padding=(1, 1))\n",
      "    (25): ReLU(inplace=True)\n",
      "    (26): Conv2d(512, 512, kernel_size=(3, 3), stride=(1, 1), padding=(1, 1))\n",
      "    (27): ReLU(inplace=True)\n",
      "    (28): Conv2d(512, 512, kernel_size=(3, 3), stride=(1, 1), padding=(1, 1))\n",
      "    (29): ReLU(inplace=True)\n",
      "    (30): MaxPool2d(kernel_size=2, stride=2, padding=0, dilation=1, ceil_mode=False)\n",
      "  )\n",
      ")\n"
     ]
    }
   ],
   "source": [
    "# content of pretrained vgg16\n",
    "model_encode = nn.Sequential(*[model_ft.features])\n",
    "print(model_encode)"
   ]
  },
  {
   "cell_type": "code",
   "execution_count": 16,
   "metadata": {},
   "outputs": [],
   "source": [
    "# turn off gradient vgg16\n",
    "for param in model_encode.parameters():\n",
    "    param.requires_grad = False"
   ]
  },
  {
   "cell_type": "code",
   "execution_count": 28,
   "metadata": {},
   "outputs": [],
   "source": [
    "# construct main model\n",
    "class main_model(nn.Module):\n",
    "    def __init__(self, in_channels, out_channels, kernel_size, num_layer, name, bias=True):\n",
    "\n",
    "        super().__init__()\n",
    "        # build upon vgg16\n",
    "        self.sequence = model_encode\n",
    "        self.sequence.add_module(\"Flatten\", nn.Flatten())\n",
    "        \n",
    "        self.sequence.add_module( \"Linear1\", nn.Linear(in_features=in_channels,  out_features=out_channels, bias=bias) )\n",
    "        self.sequence.add_module( \"Linear2\", nn.Linear(in_features=out_channels, out_features=out_channels, bias=bias) )\n",
    "        self.sequence.add_module( \"Linear3\", nn.Linear(in_features=out_channels, out_features=in_channels,  bias=bias) )\n",
    "        \n",
    "#         sequence.add_module( nn.Linear(in_features=25088, out_features=4096,  bias=True) )\n",
    "#         sequence.add_module( nn.Linear(in_features=4096,  out_features=4096,  bias=True) )\n",
    "#         sequence.add_module( nn.Linear(in_features=4096,  out_features=25088, bias=True) )\n",
    "        \n",
    "        # deconvolution block\n",
    "        self.deconv_block = nn.Sequential()\n",
    "        # deconvol input: out_channels, kernel_size, num_layer, name, channel_change, bias=True\n",
    "        self.deconv_block.add_module( deconvol(512, 3, 3, 'deconv1', False, bias) )\n",
    "        self.deconv_block.add_module( deconvol(512, 3, 3, 'deconv2', True,  bias) )\n",
    "        self.deconv_block.add_module( deconvol(256, 3, 3, 'deconv3', True,  bias) )\n",
    "        self.deconv_block.add_module( deconvol(128, 3, 2, 'deconv4', True,  bias) )\n",
    "        self.deconv_block.add_module( deconvol( 64, 3, 2, 'deconv5', True,  bias) )\n",
    "        \n",
    "        self.deconv_block.add_module(nn.ConvTranspose2d(\n",
    "                                    in_channels=64,\n",
    "                                    out_channels=64,\n",
    "                                    kernel_size=1,\n",
    "                                    stride=1,\n",
    "                                    padding=1,\n",
    "                                    bias=bias\n",
    "                                )\n",
    "                               )\n",
    "\n",
    "    def forward(self,x):\n",
    "        x=self.sequence(x)\n",
    "        x=torch.reshape(x, (None, 7, 7, 512))\n",
    "        return self.deconv_block(x)"
   ]
  },
  {
   "cell_type": "code",
   "execution_count": 31,
   "metadata": {},
   "outputs": [
    {
     "ename": "TypeError",
     "evalue": "__init__() got an unexpected keyword argument 'dilation'",
     "output_type": "error",
     "traceback": [
      "\u001b[0;31m---------------------------------------------------------------------------\u001b[0m",
      "\u001b[0;31mTypeError\u001b[0m                                 Traceback (most recent call last)",
      "\u001b[0;32m/local_scratch/8146044/ipykernel_23805/3448440836.py\u001b[0m in \u001b[0;36m<module>\u001b[0;34m\u001b[0m\n\u001b[0;32m----> 1\u001b[0;31m \u001b[0mprint\u001b[0m\u001b[0;34m(\u001b[0m\u001b[0mmain_model\u001b[0m\u001b[0;34m(\u001b[0m\u001b[0min_channels\u001b[0m\u001b[0;34m=\u001b[0m\u001b[0;36m25088\u001b[0m\u001b[0;34m,\u001b[0m \u001b[0mout_channels\u001b[0m\u001b[0;34m=\u001b[0m\u001b[0;36m4096\u001b[0m\u001b[0;34m,\u001b[0m \u001b[0mkernel_size\u001b[0m\u001b[0;34m=\u001b[0m\u001b[0;36m0\u001b[0m\u001b[0;34m,\u001b[0m \u001b[0mnum_layer\u001b[0m\u001b[0;34m=\u001b[0m\u001b[0;36m0\u001b[0m\u001b[0;34m,\u001b[0m \u001b[0mname\u001b[0m\u001b[0;34m=\u001b[0m\u001b[0;34m\"fuck\"\u001b[0m\u001b[0;34m)\u001b[0m\u001b[0;34m)\u001b[0m\u001b[0;34m\u001b[0m\u001b[0;34m\u001b[0m\u001b[0m\n\u001b[0m",
      "\u001b[0;32m/local_scratch/8146044/ipykernel_23805/2243454657.py\u001b[0m in \u001b[0;36m__init__\u001b[0;34m(self, in_channels, out_channels, kernel_size, num_layer, name, bias)\u001b[0m\n\u001b[1;32m     19\u001b[0m         \u001b[0mself\u001b[0m\u001b[0;34m.\u001b[0m\u001b[0mdeconv_block\u001b[0m \u001b[0;34m=\u001b[0m \u001b[0mnn\u001b[0m\u001b[0;34m.\u001b[0m\u001b[0mSequential\u001b[0m\u001b[0;34m(\u001b[0m\u001b[0;34m)\u001b[0m\u001b[0;34m\u001b[0m\u001b[0;34m\u001b[0m\u001b[0m\n\u001b[1;32m     20\u001b[0m         \u001b[0;31m# deconvol input: out_channels, kernel_size, num_layer, name, channel_change, bias=True\u001b[0m\u001b[0;34m\u001b[0m\u001b[0;34m\u001b[0m\u001b[0m\n\u001b[0;32m---> 21\u001b[0;31m         \u001b[0mself\u001b[0m\u001b[0;34m.\u001b[0m\u001b[0mdeconv_block\u001b[0m\u001b[0;34m.\u001b[0m\u001b[0madd_module\u001b[0m\u001b[0;34m(\u001b[0m \u001b[0mdeconvol\u001b[0m\u001b[0;34m(\u001b[0m\u001b[0;36m512\u001b[0m\u001b[0;34m,\u001b[0m \u001b[0;36m3\u001b[0m\u001b[0;34m,\u001b[0m \u001b[0;36m3\u001b[0m\u001b[0;34m,\u001b[0m \u001b[0;34m'deconv1'\u001b[0m\u001b[0;34m,\u001b[0m \u001b[0;32mFalse\u001b[0m\u001b[0;34m,\u001b[0m \u001b[0mbias\u001b[0m\u001b[0;34m)\u001b[0m \u001b[0;34m)\u001b[0m\u001b[0;34m\u001b[0m\u001b[0;34m\u001b[0m\u001b[0m\n\u001b[0m\u001b[1;32m     22\u001b[0m         \u001b[0mself\u001b[0m\u001b[0;34m.\u001b[0m\u001b[0mdeconv_block\u001b[0m\u001b[0;34m.\u001b[0m\u001b[0madd_module\u001b[0m\u001b[0;34m(\u001b[0m \u001b[0mdeconvol\u001b[0m\u001b[0;34m(\u001b[0m\u001b[0;36m512\u001b[0m\u001b[0;34m,\u001b[0m \u001b[0;36m3\u001b[0m\u001b[0;34m,\u001b[0m \u001b[0;36m3\u001b[0m\u001b[0;34m,\u001b[0m \u001b[0;34m'deconv2'\u001b[0m\u001b[0;34m,\u001b[0m \u001b[0;32mTrue\u001b[0m\u001b[0;34m,\u001b[0m  \u001b[0mbias\u001b[0m\u001b[0;34m)\u001b[0m \u001b[0;34m)\u001b[0m\u001b[0;34m\u001b[0m\u001b[0;34m\u001b[0m\u001b[0m\n\u001b[1;32m     23\u001b[0m         \u001b[0mself\u001b[0m\u001b[0;34m.\u001b[0m\u001b[0mdeconv_block\u001b[0m\u001b[0;34m.\u001b[0m\u001b[0madd_module\u001b[0m\u001b[0;34m(\u001b[0m \u001b[0mdeconvol\u001b[0m\u001b[0;34m(\u001b[0m\u001b[0;36m256\u001b[0m\u001b[0;34m,\u001b[0m \u001b[0;36m3\u001b[0m\u001b[0;34m,\u001b[0m \u001b[0;36m3\u001b[0m\u001b[0;34m,\u001b[0m \u001b[0;34m'deconv3'\u001b[0m\u001b[0;34m,\u001b[0m \u001b[0;32mTrue\u001b[0m\u001b[0;34m,\u001b[0m  \u001b[0mbias\u001b[0m\u001b[0;34m)\u001b[0m \u001b[0;34m)\u001b[0m\u001b[0;34m\u001b[0m\u001b[0;34m\u001b[0m\u001b[0m\n",
      "\u001b[0;32m/local_scratch/8146044/ipykernel_23805/1534781143.py\u001b[0m in \u001b[0;36m__init__\u001b[0;34m(self, out_channels, kernel_size, num_layer, name, channel_change, bias)\u001b[0m\n\u001b[1;32m      5\u001b[0m         \u001b[0mself\u001b[0m\u001b[0;34m.\u001b[0m\u001b[0msequence\u001b[0m \u001b[0;34m=\u001b[0m \u001b[0mnn\u001b[0m\u001b[0;34m.\u001b[0m\u001b[0mSequential\u001b[0m\u001b[0;34m(\u001b[0m\u001b[0;34m)\u001b[0m\u001b[0;34m\u001b[0m\u001b[0;34m\u001b[0m\u001b[0m\n\u001b[1;32m      6\u001b[0m         \u001b[0;31m# unpooling layer\u001b[0m\u001b[0;34m\u001b[0m\u001b[0;34m\u001b[0m\u001b[0m\n\u001b[0;32m----> 7\u001b[0;31m         unpool_layer = nn.MaxUnpool2d(\n\u001b[0m\u001b[1;32m      8\u001b[0m                 \u001b[0mkernel_size\u001b[0m\u001b[0;34m=\u001b[0m\u001b[0;36m2\u001b[0m\u001b[0;34m,\u001b[0m\u001b[0;34m\u001b[0m\u001b[0;34m\u001b[0m\u001b[0m\n\u001b[1;32m      9\u001b[0m                 \u001b[0mstride\u001b[0m\u001b[0;34m=\u001b[0m\u001b[0;36m2\u001b[0m\u001b[0;34m,\u001b[0m\u001b[0;34m\u001b[0m\u001b[0;34m\u001b[0m\u001b[0m\n",
      "\u001b[0;31mTypeError\u001b[0m: __init__() got an unexpected keyword argument 'dilation'"
     ]
    }
   ],
   "source": [
    "print(main_model(in_channels=25088, out_channels=4096, kernel_size=0, num_layer=0, name=\"fuck\"))"
   ]
  },
  {
   "cell_type": "code",
   "execution_count": 18,
   "metadata": {},
   "outputs": [],
   "source": [
    "def get_model():\n",
    "    model = main_model()\n",
    "    return model, optim.SGD(model.parameters(), lr=lr)"
   ]
  },
  {
   "cell_type": "code",
   "execution_count": 19,
   "metadata": {},
   "outputs": [],
   "source": [
    "def loss_batch(model, xb, yb, loss_func=F.cross_entropy, opt=None):\n",
    "    loss = loss_func(model(xb), yb)\n",
    "\n",
    "    if opt is not None:\n",
    "        loss.backward()\n",
    "        opt.step()\n",
    "        opt.zero_grad()\n",
    "\n",
    "    return loss.item(), len(xb)"
   ]
  },
  {
   "cell_type": "code",
   "execution_count": 20,
   "metadata": {},
   "outputs": [],
   "source": [
    "def fit(epochs, model, loss_func, opt, train_dl, valid_dl):\n",
    "    for epoch in range(epochs):\n",
    "        model.train()\n",
    "        loss1 = []\n",
    "        num = []\n",
    "        for xb, yb in train_dl:\n",
    "            losses, nums = loss_batch(model, loss_func, xb, yb)\n",
    "        loss1.append(losses)\n",
    "        num.append(nums)\n",
    "        train_loss = np.sum(np.multiply(losses, nums)) / np.sum(nums)\n",
    "\n",
    "        model.eval()\n",
    "        with torch.no_grad():\n",
    "            losses, nums = zip(\n",
    "                *[loss_batch(model, loss_func, xb, yb) for xb, yb in valid_dl]\n",
    "            )\n",
    "        val_loss = np.sum(np.multiply(losses, nums)) / np.sum(nums)\n",
    "\n",
    "        print(epoch, val_loss, train_loss)"
   ]
  },
  {
   "cell_type": "code",
   "execution_count": 21,
   "metadata": {},
   "outputs": [],
   "source": [
    "from torch.utils.data import DataLoader\n",
    "from torch.utils.data import TensorDataset\n",
    "def get_data(x_train, y_train, x_valid, y_valid, bs):\n",
    "    train_ds = TensorDataset(x_train, y_train)\n",
    "    train_dl = DataLoader(train_ds, batch_size=bs, shuffle=True)\n",
    "    valid_ds = TensorDataset(x_valid, y_valid)\n",
    "    valid_dl = DataLoader(valid_ds, batch_size=bs * 2)\n",
    "    return (train_dl,valid_dl)"
   ]
  },
  {
   "cell_type": "code",
   "execution_count": 22,
   "metadata": {},
   "outputs": [
    {
     "ename": "TypeError",
     "evalue": "__init__() missing 5 required positional arguments: 'in_channels', 'out_channels', 'kernel_size', 'num_layer', and 'name'",
     "output_type": "error",
     "traceback": [
      "\u001b[0;31m---------------------------------------------------------------------------\u001b[0m",
      "\u001b[0;31mTypeError\u001b[0m                                 Traceback (most recent call last)",
      "\u001b[0;32m/local_scratch/8146044/ipykernel_23805/2751496812.py\u001b[0m in \u001b[0;36m<module>\u001b[0;34m\u001b[0m\n\u001b[0;32m----> 1\u001b[0;31m \u001b[0mmodel\u001b[0m\u001b[0;34m,\u001b[0m \u001b[0moptim\u001b[0m \u001b[0;34m=\u001b[0m \u001b[0mget_model\u001b[0m\u001b[0;34m(\u001b[0m\u001b[0;34m)\u001b[0m\u001b[0;34m\u001b[0m\u001b[0;34m\u001b[0m\u001b[0m\n\u001b[0m",
      "\u001b[0;32m/local_scratch/8146044/ipykernel_23805/3454040020.py\u001b[0m in \u001b[0;36mget_model\u001b[0;34m()\u001b[0m\n\u001b[1;32m      1\u001b[0m \u001b[0;32mdef\u001b[0m \u001b[0mget_model\u001b[0m\u001b[0;34m(\u001b[0m\u001b[0;34m)\u001b[0m\u001b[0;34m:\u001b[0m\u001b[0;34m\u001b[0m\u001b[0;34m\u001b[0m\u001b[0m\n\u001b[0;32m----> 2\u001b[0;31m     \u001b[0mmodel\u001b[0m \u001b[0;34m=\u001b[0m \u001b[0mmain_model\u001b[0m\u001b[0;34m(\u001b[0m\u001b[0;34m)\u001b[0m\u001b[0;34m\u001b[0m\u001b[0;34m\u001b[0m\u001b[0m\n\u001b[0m\u001b[1;32m      3\u001b[0m     \u001b[0;32mreturn\u001b[0m \u001b[0mmodel\u001b[0m\u001b[0;34m,\u001b[0m \u001b[0moptim\u001b[0m\u001b[0;34m.\u001b[0m\u001b[0mSGD\u001b[0m\u001b[0;34m(\u001b[0m\u001b[0mmodel\u001b[0m\u001b[0;34m.\u001b[0m\u001b[0mparameters\u001b[0m\u001b[0;34m(\u001b[0m\u001b[0;34m)\u001b[0m\u001b[0;34m,\u001b[0m \u001b[0mlr\u001b[0m\u001b[0;34m=\u001b[0m\u001b[0mlr\u001b[0m\u001b[0;34m)\u001b[0m\u001b[0;34m\u001b[0m\u001b[0;34m\u001b[0m\u001b[0m\n",
      "\u001b[0;31mTypeError\u001b[0m: __init__() missing 5 required positional arguments: 'in_channels', 'out_channels', 'kernel_size', 'num_layer', and 'name'"
     ]
    }
   ],
   "source": []
  }
 ],
 "metadata": {
  "kernelspec": {
   "display_name": "Python 3 (PyTorch 1.9.1)",
   "language": "python",
   "name": "pytorch-1.9.1"
  },
  "language_info": {
   "codemirror_mode": {
    "name": "ipython",
    "version": 3
   },
   "file_extension": ".py",
   "mimetype": "text/x-python",
   "name": "python",
   "nbconvert_exporter": "python",
   "pygments_lexer": "ipython3",
   "version": "3.9.7"
  }
 },
 "nbformat": 4,
 "nbformat_minor": 5
}
